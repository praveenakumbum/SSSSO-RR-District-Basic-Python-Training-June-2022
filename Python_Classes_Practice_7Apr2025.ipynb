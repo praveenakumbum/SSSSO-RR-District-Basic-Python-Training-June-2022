{
  "nbformat": 4,
  "nbformat_minor": 0,
  "metadata": {
    "colab": {
      "provenance": [],
      "authorship_tag": "ABX9TyPnwhvT1C3bTnYCsFo06zTI",
      "include_colab_link": true
    },
    "kernelspec": {
      "name": "python3",
      "display_name": "Python 3"
    },
    "language_info": {
      "name": "python"
    }
  },
  "cells": [
    {
      "cell_type": "markdown",
      "metadata": {
        "id": "view-in-github",
        "colab_type": "text"
      },
      "source": [
        "<a href=\"https://colab.research.google.com/github/praveenakumbum/SSSSO-RR-District-Basic-Python-Training-June-2022/blob/master/Python_Classes_Practice_7Apr2025.ipynb\" target=\"_parent\"><img src=\"https://colab.research.google.com/assets/colab-badge.svg\" alt=\"Open In Colab\"/></a>"
      ]
    },
    {
      "cell_type": "code",
      "execution_count": null,
      "metadata": {
        "colab": {
          "base_uri": "https://localhost:8080/"
        },
        "id": "toM5UiqRjsVV",
        "outputId": "be7c1d2d-eecf-405d-e1d6-4fa57e4d8003"
      },
      "outputs": [
        {
          "output_type": "stream",
          "name": "stdout",
          "text": [
            "Python program to calculate the percentage of marks\n",
            "Total Marks : 265\n",
            "Percentage of marks scored = 88.33333333333333\n"
          ]
        }
      ],
      "source": [
        "#You have to calculate the percentage of the student's marks. He has three subjects\n",
        "#Where he got the marks out of 100s follows\n",
        "#Maths 80, Science 90, English 95\n",
        "#Tell me the percentage using the python code\n",
        "print('Python program to calculate the percentage of marks')\n",
        "English = 80\n",
        "Maths = 90\n",
        "Science = 95\n",
        "Total_Marks = English + Maths + Science\n",
        "print('Total Marks :',Total_Marks)\n",
        "Percentage = Total_Marks/300*100\n",
        "print('Percentage of marks scored =',Percentage)"
      ]
    },
    {
      "cell_type": "code",
      "source": [
        "#IPL cricket match is there. CSK vs MI. CSK was batting and the have scored 250 runs.\n",
        "#If MI is chasing the target and they made so far 120 runs. Ask the user how many balls are left.\n",
        "#And tell me the chances of MI to win the match.\n",
        "#Number of balls left is more than runs need then winning chances are HIGH\n",
        "#Number of balls left is less than runs need then winning chances are LOw\n",
        "#Assume the number of balls left is 110\n",
        "#Tell me teh chances\n",
        "print('Python program to calculate the chances of winning in IPL')\n",
        "CSK_Score = 250\n",
        "MI_Score = 120\n",
        "Runs_Required_MI_to_Win = (CSK_Score - MI_Score) + 1\n",
        "print('Runs required by MI to win = ',Runs_Required_MI_to_Win)\n",
        "No_of_Balls_Left = 110\n",
        "if No_of_Balls_Left > Runs_Required_MI_to_Win:\n",
        " print('Winning chances for MI are HIGH')\n",
        "else:\n",
        "  print('Winning chances for MI are LOW')"
      ],
      "metadata": {
        "colab": {
          "base_uri": "https://localhost:8080/"
        },
        "id": "XJJhnsF8k46n",
        "outputId": "64026162-43a6-42f2-f76a-74d52489a168"
      },
      "execution_count": null,
      "outputs": [
        {
          "output_type": "stream",
          "name": "stdout",
          "text": [
            "Python program to calculate the chances of winning in IPL\n",
            "Runs required by MI to win =  131\n",
            "Winning chances for MI are LOW\n"
          ]
        }
      ]
    },
    {
      "cell_type": "code",
      "source": [
        "#Imagine that you are building the results calculator which is defining the pass or fail.\n",
        "#Assume that student got the marks for three subjects as 80,40,60 out of 100.\n",
        "#Student is considered to be pass only if he gets over 60% in total, anything less than that considered to be fail.\n",
        "\n",
        "# Tell the result of student\n",
        "print('Python program to calculate result of student')\n",
        "Subject_1_Marks = 80\n",
        "Subject_2_Marks = 40\n",
        "Subject_3_Marks = 60\n",
        "Total_Marks = Subject_1_Marks + Subject_2_Marks + Subject_3_Marks\n",
        "print('Total Marks Scored = ',Total_Marks)\n",
        "Percentage = Total_Marks/300*100\n",
        "if Percentage > 60:\n",
        "  print('Student is Passed')\n",
        "else:\n",
        "  print('Student is Failed')"
      ],
      "metadata": {
        "colab": {
          "base_uri": "https://localhost:8080/"
        },
        "id": "iw1sm7CSle47",
        "outputId": "b0619da1-d0f1-44fd-f7c2-8eea21c3da86"
      },
      "execution_count": null,
      "outputs": [
        {
          "output_type": "stream",
          "name": "stdout",
          "text": [
            "Python program to calculate result of student\n",
            "Total Marks Scored =  180\n",
            "Student is Failed\n"
          ]
        }
      ]
    },
    {
      "cell_type": "markdown",
      "source": [],
      "metadata": {
        "id": "OWy6CFTeUGUY"
      }
    },
    {
      "cell_type": "code",
      "source": [
        "#Imagine that we are building an temperature indicator\n",
        "#When temperature lies below 15 we consider it as winter\n",
        "#and if temperature is equal or above 15 we consider it as summer\n",
        "\n",
        "#assume temperatire is 12\n",
        "#Tell me whether it is summer or winter\n",
        "print('Python program to build a temperature Indicator')\n",
        "Temperature = int(input(\"Please enter the temperature\"))\n",
        "if Temperature < 15:\n",
        " print('Its Winter')\n",
        "elif Temperature >= 15:\n",
        " print('Its Summer')"
      ],
      "metadata": {
        "colab": {
          "base_uri": "https://localhost:8080/"
        },
        "id": "mYP452reTcfF",
        "outputId": "5524ab7a-608a-438d-a9f6-61282fc401a3"
      },
      "execution_count": null,
      "outputs": [
        {
          "output_type": "stream",
          "name": "stdout",
          "text": [
            "Python program to build a temperature Indicator\n",
            "Please enter the temperature40\n",
            "Its Summer\n"
          ]
        }
      ]
    },
    {
      "cell_type": "code",
      "source": [
        "#Travelling from India to US (Husband, Wife, daughter)\n",
        "#Ticket price for adult is 1000 USD (above 18 years)\n",
        "#Ticket price for kids is 500 USD (below the 18 years)\n",
        "\n",
        "#How much to pay\n",
        "#Just ask the age of husband, wife and daughter\n",
        "#Calculate how much they need to pay\n",
        "\n",
        "#Assume husband = 25, wife = 25, daughter = 10\n",
        "print('Phython program to Calculate the air fare')\n",
        "Husband_Age = int(input(\"Please enter the Husbands Age \"))\n",
        "Wife_Age = int(input(\"Please enter the Wife Age \"))\n",
        "Daughter_Age = int(input(\"Please enter the Daughter Age \"))\n",
        "Total_Fare = 0\n",
        "if Husband_Age >=18:\n",
        "  Total_Fare = Total_Fare + 1000\n",
        "else:\n",
        "  Total_Fare = Total_Fare + 500\n",
        "if Wife_Age >=18:\n",
        "  Total_Fare = Total_Fare + 1000\n",
        "else:\n",
        "  Total_Fare = Total_Fare + 500\n",
        "if Daughter_Age >=18:\n",
        "  Total_Fare = Total_Fare + 1000\n",
        "else:\n",
        "  Total_Fare = Total_Fare + 500\n",
        "print('Total Fare =',Total_Fare)"
      ],
      "metadata": {
        "colab": {
          "base_uri": "https://localhost:8080/"
        },
        "id": "pNYjiQ7RVZ2X",
        "outputId": "f577c0bf-8292-4497-d9c1-9369ed897046"
      },
      "execution_count": null,
      "outputs": [
        {
          "output_type": "stream",
          "name": "stdout",
          "text": [
            "Phython program to Calculate the air fare\n",
            "Please enter the Husbands Age 25\n",
            "Please enter the Wife Age 25\n",
            "Please enter the Daughter Age 10\n",
            "Total Fare = 2500\n"
          ]
        }
      ]
    },
    {
      "cell_type": "code",
      "source": [
        "#Exam calculator\n",
        "#Student get the marks above 80% he is in Grade A\n",
        "#Student get the marks above 60% and below or equal to 80 he is in Grade B\n",
        "#Student get the marks below or equal to 60% he is in Grade C\n",
        "\n",
        "#Tell me the student grade\n",
        "#Assume he got 75%\n",
        "print('Python program to Calculate the students Grade')\n",
        "Marks = int(input('Please input the students marks '))\n",
        "if Marks > 80:\n",
        "  print('Grade A')\n",
        "elif Marks > 60 and Marks <=80:\n",
        "  print('Grade B')\n",
        "else:\n",
        "  print('Grade C')"
      ],
      "metadata": {
        "colab": {
          "base_uri": "https://localhost:8080/"
        },
        "id": "wLXFM4nnYmYs",
        "outputId": "cb589df9-08d8-4bf2-a11a-7d6dc608aadb"
      },
      "execution_count": null,
      "outputs": [
        {
          "output_type": "stream",
          "name": "stdout",
          "text": [
            "Python program to Calculate the students Grade\n",
            "Please input the students marks 75\n",
            "Grade B\n"
          ]
        }
      ]
    },
    {
      "cell_type": "code",
      "source": [
        "#You are doing a shopping on to the Amazon\n",
        "\n",
        "#If you do a purchase of above 5000 you are going to get extra 15% off on total amount\n",
        "#If you do a purchase of above 2000 and below or equal to 5000 you are going to get extra 10% off on total amount\n",
        "#If you do a purchase of below or equal to 2000 you are going to get extra 5% off on total amount\n",
        "#Below or equal 1000 no extra discount\n",
        "\n",
        "#Assume you did a shopping 1500 rupees. Tell me the amount after the discount you pay.\n",
        "print('Pyhton program to calculate the percentage of discount you get on Amazon shopping')\n",
        "Purchase_Amount = int(input(\"Please input the amount you are planning to shop \"))\n",
        "Discount = 0\n",
        "if Purchase_Amount > 5000:\n",
        " Disount = 15\n",
        " print('You get 15% disount')\n",
        "elif Purchase_Amount > 2000 and Purchase_Amount <= 5000:\n",
        "  Discount = 10\n",
        "  print('You get 10% discount')\n",
        "elif Purchase_Amount <= 2000:\n",
        "  Discount = 5\n",
        "  print('You get 5% discount')\n",
        "elif Purchase_Amount <= 1000:\n",
        "  Disount = 0\n",
        "  print('Sorry you couldnt claim any discount')\n",
        "price = Purchase_Amount - Purchase_Amount*Discount/100\n",
        "print('Final price you pay for the Amazon purchase ',price)"
      ],
      "metadata": {
        "colab": {
          "base_uri": "https://localhost:8080/"
        },
        "id": "nAG1MCXea-9f",
        "outputId": "4cc0b5c0-42a2-4e59-f2fd-580c6497c534"
      },
      "execution_count": null,
      "outputs": [
        {
          "output_type": "stream",
          "name": "stdout",
          "text": [
            "Pyhton program to calculate the percentage of discount you get on Amazon shopping\n",
            "Please input the amount you are planning to shop 3000\n",
            "You get 10% discount\n",
            "Final price you pay for the Amazon purchase  2700.0\n"
          ]
        }
      ]
    },
    {
      "cell_type": "code",
      "source": [
        "#Assume that you are booking the flight for yourself\n",
        "#price for adult (above 18 years) is 1000USD\n",
        "#Price for teenager (below or equal to 18) as 700USD\n",
        "#Meal cost is 200USD for adults\n",
        "#Meal is free for teenagers\n",
        "\n",
        "#Assumption your age is 25 years.Tell me the ticket price includind meal\n",
        "print('Python program to calculate the airfare')\n",
        "Age = int(input('Please input age of the Passenger '))\n",
        "Ticket_Price = 0\n",
        "MealRequired = 0\n",
        "if Age <= 18:\n",
        "  Ticket_Price = 700\n",
        "elif Age > 18:\n",
        "  Ticket_Price = 1000\n",
        "  MealRequired = int(input('Please enter 1 if Meal required else enter 0 = '))\n",
        "  if MealRequired == 1:\n",
        "   Ticket_Price = Ticket_Price + 200\n",
        "  else:\n",
        "   Ticket_Price = Ticket_Price\n",
        "\n",
        "print('Ticket Price = ',Ticket_Price, 'USD')"
      ],
      "metadata": {
        "colab": {
          "base_uri": "https://localhost:8080/"
        },
        "id": "XV_1RO3khBYy",
        "outputId": "1c1848a5-b201-4be2-f552-bff1769108bb"
      },
      "execution_count": null,
      "outputs": [
        {
          "output_type": "stream",
          "name": "stdout",
          "text": [
            "Python program to calculate the airfare\n",
            "Please input age of the Passenger 25\n",
            "Please enter 1 if Meal required else enter 0 = 1\n",
            "Ticket Price =  1200 USD\n"
          ]
        }
      ]
    },
    {
      "cell_type": "code",
      "source": [
        "#Imagine that you are a owner of software company an dyou have 5 employees.\n",
        "#You have to ditribute the salary to each employee, you ask your manager to give me the salary of each employee and then you find the total of it.\n",
        "print('Python program to calculate the salary of employees without using loop')\n",
        "e1 = int(input('Enter Employee1 Salary :: '))\n",
        "e2 = int(input('Enter Employee2 Salary :: '))\n",
        "e3 = int(input('Enter Employee3 Salary :: '))\n",
        "e4 = int(input('Enter Employee4 Salary :: '))\n",
        "e5 = int(input('Enter Employee5 Salary :: '))\n",
        "Total_Salary = e1+e2+e3+e4+e5\n",
        "print('Total salary towards Employee Salary ::',Total_Salary3)"
      ],
      "metadata": {
        "colab": {
          "base_uri": "https://localhost:8080/"
        },
        "id": "ec_07zBhdqwO",
        "outputId": "3e4d5747-144a-41db-abf1-f7dd1ec6b00a"
      },
      "execution_count": 1,
      "outputs": [
        {
          "output_type": "stream",
          "name": "stdout",
          "text": [
            "Python program to calculate the salary of employees without using loop\n",
            "Enter Employee1 Salary :: 20\n",
            "Enter Employee2 Salary :: 30\n",
            "Enter Employee3 Salary :: 40\n",
            "Enter Employee4 Salary :: 50\n",
            "Enter Employee5 Salary :: 60\n",
            "Total salary towards Employee Salary :: 200\n"
          ]
        }
      ]
    },
    {
      "cell_type": "code",
      "source": [
        "#Repeating the same program using loops concept\n",
        "print('Python program to calculate the salary of employees by using loop')\n",
        "i=0\n",
        "Total_Salary = 0\n",
        "while i<5:\n",
        " e1 = int(input('Enter Employee Salary :: '))\n",
        " Total_Sal80ary = Total_Salary + e1\n",
        " i=i+1\n",
        "print('Total salary towards Employee Salary ::',Total_Salary)"
      ],
      "metadata": {
        "colab": {
          "base_uri": "https://localhost:8080/"
        },
        "id": "gzJqZRryepf2",
        "outputId": "7be23bfd-22fd-4803-fd45-d4c2075dad2e"
      },
      "execution_count": 3,
      "outputs": [
        {
          "output_type": "stream",
          "name": "stdout",
          "text": [
            "Python program to calculate the salary of employees by using loop\n",
            "Enter Employee Salary :: 30\n",
            "Enter Employee Salary :: 40\n",
            "Enter Employee Salary :: 50\n",
            "Enter Employee Salary :: 60\n",
            "Enter Employee Salary :: 70\n",
            "Total salary towards Employee Salary :: 250\n"
          ]
        }
      ]
    },
    {
      "cell_type": "code",
      "source": [
        "#write a program to print Hello world 10 times\n",
        "print('Python program to implement loops concept')\n",
        "i=0\n",
        "while i<10:\n",
        "  print('Hello World')\n",
        "  i=i+1"
      ],
      "metadata": {
        "colab": {
          "base_uri": "https://localhost:8080/"
        },
        "id": "GUdXUgaafjwP",
        "outputId": "f43c9fab-872e-48c9-f507-992bc3f71adb"
      },
      "execution_count": 5,
      "outputs": [
        {
          "output_type": "stream",
          "name": "stdout",
          "text": [
            "Python program to implement loops concept\n",
            "Hello World\n",
            "Hello World\n",
            "Hello World\n",
            "Hello World\n",
            "Hello World\n",
            "Hello World\n",
            "Hello World\n",
            "Hello World\n",
            "Hello World\n",
            "Hello World\n"
          ]
        }
      ]
    },
    {
      "cell_type": "code",
      "source": [
        "#Imagine you are going to US and you want to book your cab for going to airport\n",
        "#There are 3 cabs one for General = 100, Premium = 200, Super premium = 300\n",
        "#write the program to find the lowest priced taxi\n",
        "print('Python program to fing the lowest priced taxi.')\n",
        "Taxi1_Price = int(input('Please enter the teaxi fare :'))\n",
        "Taxi2_Price = int(input('Please enter the teaxi fare :'))\n",
        "Taxi3_Price = int(input('Please enter the teaxi fare :'))\n",
        "print('Lowest taxi fare :',min(Taxi1_Price,Taxi2_Price,Taxi3_Price))"
      ],
      "metadata": {
        "colab": {
          "base_uri": "https://localhost:8080/"
        },
        "id": "Z7kAN_yvf3IY",
        "outputId": "438b007e-1980-4063-ed6a-88edb93e64f8"
      },
      "execution_count": 2,
      "outputs": [
        {
          "output_type": "stream",
          "name": "stdout",
          "text": [
            "Python program to fing the lowest priced taxi.\n",
            "Please enter the teaxi fare :30\n",
            "Please enter the teaxi fare :40\n",
            "Please enter the teaxi fare :90\n",
            "Lowest taxi fare : 30\n"
          ]
        }
      ]
    },
    {
      "cell_type": "code",
      "source": [
        "#Write a program to find all the odd numbers between 1-100\n",
        "print('Python program to find out the odd numbers beween 1 and 100')\n",
        "i=0\n",
        "while i<101:\n",
        " if i%2 !=0:\n",
        "  print(i)\n",
        " i=i+1"
      ],
      "metadata": {
        "colab": {
          "base_uri": "https://localhost:8080/"
        },
        "id": "OxNxvpmshOX9",
        "outputId": "76c0b6fb-5413-4ba8-e269-4fea62078475"
      },
      "execution_count": 14,
      "outputs": [
        {
          "output_type": "stream",
          "name": "stdout",
          "text": [
            "Python program to find out the odd numbers beween 1 and 100\n",
            "1\n",
            "3\n",
            "5\n",
            "7\n",
            "9\n",
            "11\n",
            "13\n",
            "15\n",
            "17\n",
            "19\n",
            "21\n",
            "23\n",
            "25\n",
            "27\n",
            "29\n",
            "31\n",
            "33\n",
            "35\n",
            "37\n",
            "39\n",
            "41\n",
            "43\n",
            "45\n",
            "47\n",
            "49\n",
            "51\n",
            "53\n",
            "55\n",
            "57\n",
            "59\n",
            "61\n",
            "63\n",
            "65\n",
            "67\n",
            "69\n",
            "71\n",
            "73\n",
            "75\n",
            "77\n",
            "79\n",
            "81\n",
            "83\n",
            "85\n",
            "87\n",
            "89\n",
            "91\n",
            "93\n",
            "95\n",
            "97\n",
            "99\n"
          ]
        }
      ]
    },
    {
      "cell_type": "code",
      "source": [
        "#IPL match between CSk and MI, IMagine you are owner of cricinfo.com\n",
        "#User is going to enter the runs scored by Dhoni in last five matches\n",
        "#You need to calculate the average runs scored by Dhoni in last five matches.\n",
        "#Print the average\n",
        "print('Python program to calculate the average runs of Dhoni')\n",
        "i=0\n",
        "Total_Runs = 0\n",
        "while i<5:\n",
        " Dhoni_runs = int(input('PLease Enter Dhoni score in the match '))\n",
        " Total_Runs = Total_Runs + Dhoni_runs\n",
        " i=i+1\n",
        "Dhoni_runs_average = Total_Runs/5\n",
        "print('Average of Dhoni score in last 5 matches ',Dhoni_runs_average)"
      ],
      "metadata": {
        "colab": {
          "base_uri": "https://localhost:8080/"
        },
        "id": "Czo2Y_tqkNWb",
        "outputId": "7405a1d2-b392-4594-b6b6-4fb73940b209"
      },
      "execution_count": 19,
      "outputs": [
        {
          "output_type": "stream",
          "name": "stdout",
          "text": [
            "Python program to calculate the average runs of Dhoni\n",
            "PLease Enter Dhoni score in the match 30\n",
            "PLease Enter Dhoni score in the match 40\n",
            "PLease Enter Dhoni score in the match 50\n",
            "PLease Enter Dhoni score in the match 60\n",
            "PLease Enter Dhoni score in the match 70\n",
            "Average of Dhoni score in last 5 matches  50.0\n"
          ]
        }
      ]
    }
  ]
}